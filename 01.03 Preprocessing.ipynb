{
 "cells": [
  {
   "cell_type": "markdown",
   "metadata": {},
   "source": [
    "#### Preprocessing\n",
    "##### Scaling (Normalization or Standardization)\n",
    "##### Binarize (Make data binary based on threshold)"
   ]
  },
  {
   "cell_type": "markdown",
   "metadata": {},
   "source": [
    "Scaling / Normalization / Standardization\n",
    "(Applicable to Continuous Column)\n",
    "Algos like Nueral Networks, PCA and KNN expect all variables to be in same scale - 0 to 1 or a given min and given max value\n",
    "\n",
    "3Type of Scaling:\n",
    "    \n",
    "    1. 0 - 1 Scaling or Min Max Scaling: Transform values between 0 and 1\n",
    "\n",
    "        Range of Age 0 - 85; Fare 0 - 800\n",
    "        Covert it into range 0 - 1\n",
    "    2. Z score scaling or standard scaling \n",
    "        \n",
    "        Coverts values from -3 to 3 range\n",
    "        To apply z score scaling, the data should be normally distributed\n",
    "        Also data should not have outlier data. If data has outlier values would fall outside -3 and +3\n",
    "        Resulting in algos failing without a fixed min and max        \n",
    "\n",
    "    3. Robust Scaling - for skewed distribution that are not exactly normally distributed\n",
    "    \n",
    "        Applicable when data has more outliers - fat tails or skewed\n",
    "        Calculate as (Xi - Q1)/(Q3-Q1) where Q1, Q2, Q3 and Q4 are the quartiles\n",
    "        This approach ensures outliers are not considered to scale values instead Q1 and Q3 are considered.\n",
    "        Impact of outliers on scaling is reduced\n",
    "        \n",
    "When data has very small variance then Z-score or Robust Scaling is not good. Better to prefer 0-1 Scaling"
   ]
  },
  {
   "cell_type": "code",
   "execution_count": 45,
   "metadata": {},
   "outputs": [],
   "source": [
    "import os\n",
    "import pandas as pd\n",
    "from sklearn import preprocessing\n",
    "import numpy as np\n",
    "from sklearn.impute import SimpleImputer\n",
    "\n",
    "os.chdir('/Users/suma/Documents/01 Data Science/Titanic Problem/')"
   ]
  },
  {
   "cell_type": "code",
   "execution_count": 63,
   "metadata": {},
   "outputs": [],
   "source": [
    "df_train = pd.read_csv('titanic_train.csv')\n",
    "df_test = pd.read_csv('titanic_test.csv')"
   ]
  },
  {
   "cell_type": "markdown",
   "metadata": {},
   "source": [
    "#### Append Train and Test data (for preprocessing)"
   ]
  },
  {
   "cell_type": "code",
   "execution_count": 64,
   "metadata": {},
   "outputs": [],
   "source": [
    "frames = [df_train, df_test]\n",
    "df = pd.concat(frames, axis = 0, sort = False)\n",
    "#df.info()"
   ]
  },
  {
   "cell_type": "code",
   "execution_count": 23,
   "metadata": {},
   "outputs": [],
   "source": [
    "scalable_features = ['Age', 'Fare']"
   ]
  },
  {
   "cell_type": "markdown",
   "metadata": {},
   "source": [
    "#### Scaling\n",
    "##### Standard Scaling or Z Score Scaling\n",
    "\n",
    "Elements such as l1 ,l2 regularizer in linear models (logistic comes under this category) and RBF kernel in SVM in objective function of learners assumes that all the features are centered around zero and have variance in the same order."
   ]
  },
  {
   "cell_type": "code",
   "execution_count": 25,
   "metadata": {},
   "outputs": [
    {
     "name": "stdout",
     "output_type": "stream",
     "text": [
      "[1. 1.]\n",
      "[1. 1.]\n"
     ]
    },
    {
     "data": {
      "text/html": [
       "<div>\n",
       "<style scoped>\n",
       "    .dataframe tbody tr th:only-of-type {\n",
       "        vertical-align: middle;\n",
       "    }\n",
       "\n",
       "    .dataframe tbody tr th {\n",
       "        vertical-align: top;\n",
       "    }\n",
       "\n",
       "    .dataframe thead th {\n",
       "        text-align: right;\n",
       "    }\n",
       "</style>\n",
       "<table border=\"1\" class=\"dataframe\">\n",
       "  <thead>\n",
       "    <tr style=\"text-align: right;\">\n",
       "      <th></th>\n",
       "      <th>Age</th>\n",
       "      <th>Fare</th>\n",
       "    </tr>\n",
       "  </thead>\n",
       "  <tbody>\n",
       "    <tr>\n",
       "      <th>count</th>\n",
       "      <td>1.046000e+03</td>\n",
       "      <td>1.308000e+03</td>\n",
       "    </tr>\n",
       "    <tr>\n",
       "      <th>mean</th>\n",
       "      <td>1.921132e-17</td>\n",
       "      <td>1.294411e-17</td>\n",
       "    </tr>\n",
       "    <tr>\n",
       "      <th>std</th>\n",
       "      <td>1.000478e+00</td>\n",
       "      <td>1.000382e+00</td>\n",
       "    </tr>\n",
       "    <tr>\n",
       "      <th>min</th>\n",
       "      <td>-2.062328e+00</td>\n",
       "      <td>-6.435292e-01</td>\n",
       "    </tr>\n",
       "    <tr>\n",
       "      <th>25%</th>\n",
       "      <td>-6.164631e-01</td>\n",
       "      <td>-4.909206e-01</td>\n",
       "    </tr>\n",
       "    <tr>\n",
       "      <th>50%</th>\n",
       "      <td>-1.305747e-01</td>\n",
       "      <td>-3.641609e-01</td>\n",
       "    </tr>\n",
       "    <tr>\n",
       "      <th>75%</th>\n",
       "      <td>6.329641e-01</td>\n",
       "      <td>-3.905147e-02</td>\n",
       "    </tr>\n",
       "    <tr>\n",
       "      <th>max</th>\n",
       "      <td>3.478882e+00</td>\n",
       "      <td>9.258680e+00</td>\n",
       "    </tr>\n",
       "  </tbody>\n",
       "</table>\n",
       "</div>"
      ],
      "text/plain": [
       "                Age          Fare\n",
       "count  1.046000e+03  1.308000e+03\n",
       "mean   1.921132e-17  1.294411e-17\n",
       "std    1.000478e+00  1.000382e+00\n",
       "min   -2.062328e+00 -6.435292e-01\n",
       "25%   -6.164631e-01 -4.909206e-01\n",
       "50%   -1.305747e-01 -3.641609e-01\n",
       "75%    6.329641e-01 -3.905147e-02\n",
       "max    3.478882e+00  9.258680e+00"
      ]
     },
     "execution_count": 25,
     "metadata": {},
     "output_type": "execute_result"
    }
   ],
   "source": [
    "scaler1 = preprocessing.StandardScaler()\n",
    "scaler1.fit(df[scalable_features])\n",
    "print(scaler1.scale_) #scale is sqrt of variance here\n",
    "print(scaler1.var_)\n",
    "df[scalable_features]= scaler1.transform(df[scalable_features])\n",
    "df[scalable_features].describe()"
   ]
  },
  {
   "cell_type": "markdown",
   "metadata": {},
   "source": [
    "##### Min Max Scaling or 0-1 Scaling\n",
    "\n",
    "KNN, Neural Networks etc"
   ]
  },
  {
   "cell_type": "code",
   "execution_count": 26,
   "metadata": {},
   "outputs": [
    {
     "name": "stdout",
     "output_type": "stream",
     "text": [
      "[-2.06232797 -0.6435292 ]\n",
      "[3.47888164 9.25867993]\n"
     ]
    },
    {
     "data": {
      "text/html": [
       "<div>\n",
       "<style scoped>\n",
       "    .dataframe tbody tr th:only-of-type {\n",
       "        vertical-align: middle;\n",
       "    }\n",
       "\n",
       "    .dataframe tbody tr th {\n",
       "        vertical-align: top;\n",
       "    }\n",
       "\n",
       "    .dataframe thead th {\n",
       "        text-align: right;\n",
       "    }\n",
       "</style>\n",
       "<table border=\"1\" class=\"dataframe\">\n",
       "  <thead>\n",
       "    <tr style=\"text-align: right;\">\n",
       "      <th></th>\n",
       "      <th>Age</th>\n",
       "      <th>Fare</th>\n",
       "    </tr>\n",
       "  </thead>\n",
       "  <tbody>\n",
       "    <tr>\n",
       "      <th>count</th>\n",
       "      <td>1046.000000</td>\n",
       "      <td>1308.000000</td>\n",
       "    </tr>\n",
       "    <tr>\n",
       "      <th>mean</th>\n",
       "      <td>0.372180</td>\n",
       "      <td>0.064988</td>\n",
       "    </tr>\n",
       "    <tr>\n",
       "      <th>std</th>\n",
       "      <td>0.180552</td>\n",
       "      <td>0.101026</td>\n",
       "    </tr>\n",
       "    <tr>\n",
       "      <th>min</th>\n",
       "      <td>0.000000</td>\n",
       "      <td>0.000000</td>\n",
       "    </tr>\n",
       "    <tr>\n",
       "      <th>25%</th>\n",
       "      <td>0.260929</td>\n",
       "      <td>0.015412</td>\n",
       "    </tr>\n",
       "    <tr>\n",
       "      <th>50%</th>\n",
       "      <td>0.348616</td>\n",
       "      <td>0.028213</td>\n",
       "    </tr>\n",
       "    <tr>\n",
       "      <th>75%</th>\n",
       "      <td>0.486409</td>\n",
       "      <td>0.061045</td>\n",
       "    </tr>\n",
       "    <tr>\n",
       "      <th>max</th>\n",
       "      <td>1.000000</td>\n",
       "      <td>1.000000</td>\n",
       "    </tr>\n",
       "  </tbody>\n",
       "</table>\n",
       "</div>"
      ],
      "text/plain": [
       "               Age         Fare\n",
       "count  1046.000000  1308.000000\n",
       "mean      0.372180     0.064988\n",
       "std       0.180552     0.101026\n",
       "min       0.000000     0.000000\n",
       "25%       0.260929     0.015412\n",
       "50%       0.348616     0.028213\n",
       "75%       0.486409     0.061045\n",
       "max       1.000000     1.000000"
      ]
     },
     "execution_count": 26,
     "metadata": {},
     "output_type": "execute_result"
    }
   ],
   "source": [
    "scaler2 = preprocessing.MinMaxScaler()\n",
    "scaler2.fit(df[scalable_features])\n",
    "print(scaler2.data_min_)\n",
    "print(scaler2.data_max_)\n",
    "df[scalable_features]= scaler2.transform(df[scalable_features])\n",
    "df[scalable_features].describe()"
   ]
  },
  {
   "cell_type": "code",
   "execution_count": null,
   "metadata": {},
   "outputs": [],
   "source": [
    "from sklearn.preprocessing import normalize\n",
    "# min max scaling\n",
    "df[scalable_features] = normalize(df[scalable_features], axis = 0)\n",
    "#unit vector scaling\n",
    "df[scalable_features] = normalize(df[scalable_features], axis = 0)"
   ]
  },
  {
   "cell_type": "markdown",
   "metadata": {},
   "source": [
    "##### Robust Scaling"
   ]
  },
  {
   "cell_type": "code",
   "execution_count": 28,
   "metadata": {},
   "outputs": [
    {
     "name": "stdout",
     "output_type": "stream",
     "text": [
      "[0. 0.]\n",
      "[1. 1.]\n"
     ]
    },
    {
     "data": {
      "text/html": [
       "<div>\n",
       "<style scoped>\n",
       "    .dataframe tbody tr th:only-of-type {\n",
       "        vertical-align: middle;\n",
       "    }\n",
       "\n",
       "    .dataframe tbody tr th {\n",
       "        vertical-align: top;\n",
       "    }\n",
       "\n",
       "    .dataframe thead th {\n",
       "        text-align: right;\n",
       "    }\n",
       "</style>\n",
       "<table border=\"1\" class=\"dataframe\">\n",
       "  <thead>\n",
       "    <tr style=\"text-align: right;\">\n",
       "      <th></th>\n",
       "      <th>Age</th>\n",
       "      <th>Fare</th>\n",
       "    </tr>\n",
       "  </thead>\n",
       "  <tbody>\n",
       "    <tr>\n",
       "      <th>count</th>\n",
       "      <td>1046.000000</td>\n",
       "      <td>1308.000000</td>\n",
       "    </tr>\n",
       "    <tr>\n",
       "      <th>mean</th>\n",
       "      <td>0.104508</td>\n",
       "      <td>0.805899</td>\n",
       "    </tr>\n",
       "    <tr>\n",
       "      <th>std</th>\n",
       "      <td>0.800750</td>\n",
       "      <td>2.213877</td>\n",
       "    </tr>\n",
       "    <tr>\n",
       "      <th>min</th>\n",
       "      <td>-1.546111</td>\n",
       "      <td>-0.618250</td>\n",
       "    </tr>\n",
       "    <tr>\n",
       "      <th>25%</th>\n",
       "      <td>-0.388889</td>\n",
       "      <td>-0.280523</td>\n",
       "    </tr>\n",
       "    <tr>\n",
       "      <th>50%</th>\n",
       "      <td>0.000000</td>\n",
       "      <td>0.000000</td>\n",
       "    </tr>\n",
       "    <tr>\n",
       "      <th>75%</th>\n",
       "      <td>0.611111</td>\n",
       "      <td>0.719477</td>\n",
       "    </tr>\n",
       "    <tr>\n",
       "      <th>max</th>\n",
       "      <td>2.888889</td>\n",
       "      <td>21.295639</td>\n",
       "    </tr>\n",
       "  </tbody>\n",
       "</table>\n",
       "</div>"
      ],
      "text/plain": [
       "               Age         Fare\n",
       "count  1046.000000  1308.000000\n",
       "mean      0.104508     0.805899\n",
       "std       0.800750     2.213877\n",
       "min      -1.546111    -0.618250\n",
       "25%      -0.388889    -0.280523\n",
       "50%       0.000000     0.000000\n",
       "75%       0.611111     0.719477\n",
       "max       2.888889    21.295639"
      ]
     },
     "execution_count": 28,
     "metadata": {},
     "output_type": "execute_result"
    }
   ],
   "source": [
    "#Robust Scaling\n",
    "scaler3 = preprocessing.RobustScaler()\n",
    "scaler3.fit(df[scalable_features])\n",
    "print(scaler3.center_)\n",
    "print(scaler3.scale_)\n",
    "df[scalable_features]= scaler3.transform(df[scalable_features])\n",
    "df[scalable_features].describe()"
   ]
  },
  {
   "cell_type": "markdown",
   "metadata": {},
   "source": [
    "##### Binarize"
   ]
  },
  {
   "cell_type": "code",
   "execution_count": 66,
   "metadata": {},
   "outputs": [],
   "source": [
    "# Expects a 2D matrix or df as input\n",
    "# Read input data before running below code - since normalized data doesn't have threshold values"
   ]
  },
  {
   "cell_type": "code",
   "execution_count": 65,
   "metadata": {},
   "outputs": [],
   "source": [
    "cont_imputer = SimpleImputer()\n",
    "df['Fare'] = cont_imputer.fit_transform(df[['Fare']])\n",
    "\n",
    "binarizer = preprocessing.Binarizer(threshold=50.0).fit(df.Fare.values.reshape(-1,1)) \n",
    "df['binaryFare'] = binarizer.transform(df[['Fare']]) "
   ]
  },
  {
   "cell_type": "code",
   "execution_count": 69,
   "metadata": {},
   "outputs": [
    {
     "name": "stdout",
     "output_type": "stream",
     "text": [
      "[1.]\n",
      "[0.]\n"
     ]
    }
   ],
   "source": [
    "print(df[df['Fare'] > 50].binaryFare.unique())\n",
    "print(df[df['Fare'] < 50].binaryFare.unique())"
   ]
  },
  {
   "cell_type": "code",
   "execution_count": 42,
   "metadata": {},
   "outputs": [
    {
     "name": "stdout",
     "output_type": "stream",
     "text": [
      "(1309,)\n",
      "(1309, 1)\n",
      "(1309,)\n",
      "(1, 1309)\n"
     ]
    }
   ],
   "source": [
    "x = df.Fare.values\n",
    "print(x.shape)\n",
    "x = x.reshape(-1,1)\n",
    "print(x.shape)\n",
    "\n",
    "x = df.Fare.values\n",
    "print(x.shape)\n",
    "x = x.reshape(1,-1)\n",
    "print(x.shape)"
   ]
  },
  {
   "cell_type": "code",
   "execution_count": 54,
   "metadata": {},
   "outputs": [
    {
     "data": {
      "text/plain": [
       "(1309, 1)"
      ]
     },
     "execution_count": 54,
     "metadata": {},
     "output_type": "execute_result"
    }
   ],
   "source": [
    "df[['Fare']].shape"
   ]
  },
  {
   "cell_type": "code",
   "execution_count": null,
   "metadata": {},
   "outputs": [],
   "source": []
  }
 ],
 "metadata": {
  "kernelspec": {
   "display_name": "Python 3",
   "language": "python",
   "name": "python3"
  },
  "language_info": {
   "codemirror_mode": {
    "name": "ipython",
    "version": 3
   },
   "file_extension": ".py",
   "mimetype": "text/x-python",
   "name": "python",
   "nbconvert_exporter": "python",
   "pygments_lexer": "ipython3",
   "version": "3.7.4"
  }
 },
 "nbformat": 4,
 "nbformat_minor": 4
}
