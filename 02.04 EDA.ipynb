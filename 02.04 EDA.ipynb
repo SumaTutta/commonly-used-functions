{
 "cells": [
  {
   "cell_type": "markdown",
   "metadata": {},
   "source": [
    "### Bivariate EDA \n",
    "#### Categorical - Categorical\n",
    "#### Categorical - Numerical"
   ]
  },
  {
   "cell_type": "code",
   "execution_count": 92,
   "metadata": {},
   "outputs": [],
   "source": [
    "import os\n",
    "import pandas as pd\n",
    "import missingno as msno\n",
    "import seaborn as sns\n",
    "import matplotlib.pyplot as plt\n",
    "import numpy as np\n",
    "from scipy.stats import chi2, chi2_contingency, ttest_ind, f_oneway\n",
    "from statsmodels.stats import weightstats as stests\n",
    "\n",
    "from IPython.display import display, HTML\n",
    "#display(HTML(df_perf.to_html()))\n",
    "%matplotlib inline\n",
    "\n",
    "os.chdir('/Users/suma/Documents/01 Data Science/Titanic Problem/')"
   ]
  },
  {
   "cell_type": "code",
   "execution_count": 2,
   "metadata": {},
   "outputs": [],
   "source": [
    "df_train = pd.read_csv('titanic_train.csv')\n",
    "df_test = pd.read_csv('titanic_test.csv')"
   ]
  },
  {
   "cell_type": "code",
   "execution_count": 4,
   "metadata": {},
   "outputs": [
    {
     "name": "stdout",
     "output_type": "stream",
     "text": [
      "<class 'pandas.core.frame.DataFrame'>\n",
      "Int64Index: 1309 entries, 0 to 417\n",
      "Data columns (total 12 columns):\n",
      "PassengerId    1309 non-null int64\n",
      "Pclass         1309 non-null int64\n",
      "Name           1309 non-null object\n",
      "Sex            1309 non-null object\n",
      "Age            1046 non-null float64\n",
      "SibSp          1309 non-null int64\n",
      "Parch          1309 non-null int64\n",
      "Fare           1308 non-null float64\n",
      "Cabin          295 non-null object\n",
      "Embarked       1307 non-null object\n",
      "Survived       891 non-null float64\n",
      "Ticket         1309 non-null object\n",
      "dtypes: float64(3), int64(4), object(5)\n",
      "memory usage: 132.9+ KB\n"
     ]
    }
   ],
   "source": [
    "frames = [df_train, df_test]\n",
    "df = pd.concat(frames, axis = 0, sort = False)\n",
    "df.info()"
   ]
  },
  {
   "cell_type": "markdown",
   "metadata": {},
   "source": [
    "#### Categorical to Categorical variables"
   ]
  },
  {
   "cell_type": "markdown",
   "metadata": {},
   "source": [
    "##### Chi-Sq Test for Independence test "
   ]
  },
  {
   "cell_type": "markdown",
   "metadata": {},
   "source": [
    "##### Generate contingency table \n",
    "##### The function takes an array as input representing the contingency table for the two categorical variables. It returns the calculated statistic and p-value for interpretation as well as the calculated degrees of freedom and table of expected frequencies."
   ]
  },
  {
   "cell_type": "code",
   "execution_count": 18,
   "metadata": {},
   "outputs": [
    {
     "name": "stdout",
     "output_type": "stream",
     "text": [
      "Embarked: Dependent (reject H0)\n",
      "Pclass: Dependent (reject H0)\n",
      "Cabin: Independent (fail to reject H0)\n"
     ]
    }
   ],
   "source": [
    "target_variable = 'Survived'\n",
    "categorical_variables = ['Embarked', 'Pclass', 'Cabin']\n",
    "\n",
    "for cat in categorical_variables:\n",
    "    cont_table = pd.crosstab(df[target_variable], df[cat], margins = False)\n",
    "    stat, p, dof, expected = chi2_contingency(cont_table)\n",
    "    alpha = 1.0 - prob\n",
    "    if p <= alpha:\n",
    "        print(cat+': Dependent (reject H0)')\n",
    "    else:\n",
    "        print(cat+': Independent (fail to reject H0)')"
   ]
  },
  {
   "cell_type": "markdown",
   "metadata": {},
   "source": [
    "#### Categorical to Numeric variables"
   ]
  },
  {
   "cell_type": "markdown",
   "metadata": {},
   "source": [
    "##### Line Chart with error Bars"
   ]
  },
  {
   "cell_type": "code",
   "execution_count": 58,
   "metadata": {},
   "outputs": [
    {
     "data": {
      "image/png": "[encoded data removed]",
      "text/plain": [
       "<Figure size 432x288 with 1 Axes>"
      ]
     },
     "metadata": {
      "needs_background": "light"
     },
     "output_type": "display_data"
    }
   ],
   "source": [
    "ax = sns.lineplot(x=\"Survived\", y=\"Fare\", markers=True, ci = 'sd', dashes=False, data=df_train)\n",
    "ax = sns.lineplot(x=\"Survived\", y=\"Fare\", err_style = 'bars', markers=True, dashes=False, ci = 95, data=df_train)"
   ]
  },
  {
   "cell_type": "markdown",
   "metadata": {},
   "source": [
    "#### t-test (for sample sizes less than 30)\n",
    "\n",
    "T- Test :- A t-test is a type of inferential statistic which is used to determine if there is a significant difference between the means of two groups which may be related in certain features. It is mostly used when the data sets, like the set of data recorded as outcome from flipping a coin a 100 times, would follow a normal distribution and may have unknown variances. T test is used as a hypothesis testing tool, which allows testing of an assumption applicable to a population.\n",
    "\n",
    "T-test has 2 types : 1. one sampled t-test 2. two-sampled t-test.\n",
    "\n",
    "One sample t-test : The One Sample t Test determines whether the sample mean is statistically different from a known or hypothesised population mean. The One Sample t Test is a parametric test.\n",
    "\n",
    "Two sampled T-test :-The Independent Samples t Test or 2-sample t-test compares the means of two independent groups in order to determine whether there is statistical evidence that the associated population means are significantly different. The Independent Samples t Test is a parametric test. This test is also known as: Independent t Test.\n",
    "\n",
    "Paired sampled t-test :- The paired sample t-test is also called dependent sample t-test. It’s an uni variate test that tests for a significant difference between 2 related variables. An example of this is if you where to collect the blood pressure for an individual before and after some treatment, condition, or time point.\n",
    "\n",
    "<img src=\"ttest-image.png\">"
   ]
  },
  {
   "cell_type": "code",
   "execution_count": 77,
   "metadata": {},
   "outputs": [
    {
     "name": "stdout",
     "output_type": "stream",
     "text": [
      "Fare & Survived:\n",
      "\tp-value 0.000\n",
      "\tDependent (reject H0)\n",
      "Age  has null values, impute null values before t-test\n"
     ]
    }
   ],
   "source": [
    "#Two sampled T-test \n",
    "target_variable = 'Survived'\n",
    "numerical_variables = ['Fare', 'Age']\n",
    "for col in numerical_variables:\n",
    "    if df_train[col].isnull().sum() > 0:\n",
    "        print(col, \" has null values, impute null values before t-test\")\n",
    "    else:\n",
    "        ttest,pval = ttest_ind(df_train[df_train[target_variable] == 1][col],df_train[df_train[target_variable] == 0][col])\n",
    "        print(col + \" & \" + target_variable + \":\")\n",
    "        print(\"\\tp-value\",\"{0:.3f}\".format(pval))\n",
    "        if pval <0.05:\n",
    "            print(\"\\tDependent (reject H0)\")\n",
    "        else:\n",
    "            print(\"\\tIndependent (accept H0)\")\n",
    "            \n",
    "#One Sampled T-test; below example compares the sample mean to a benchmark mean value of 30\n",
    "# tset, pval = ttest_1samp(ages, 30)\n",
    "\n",
    "#Paired sampled t-test:\n",
    "#ttest,pval = stats.ttest_rel(df['bp_before'], df['bp_after'])"
   ]
  },
  {
   "cell_type": "markdown",
   "metadata": {},
   "source": [
    "####  Z-test:\n",
    "\n",
    "- Your sample size is greater than 30. Otherwise, use a t test. <br>\n",
    "- Data points should be independent from each other. In other words, one data point isn’t related or doesn’t affect another data point. <br>\n",
    "- Your data should be normally distributed. However, for large sample sizes (over 30) this doesn’t always matter. <br>\n",
    "- Your data should be randomly selected from a population, where each item has an equal chance of being selected. <br>\n",
    "- Sample sizes should be equal if at all possible. <br>\n",
    "\n",
    "<img src=\"ztest-image.jpg\">"
   ]
  },
  {
   "cell_type": "code",
   "execution_count": 82,
   "metadata": {},
   "outputs": [
    {
     "name": "stdout",
     "output_type": "stream",
     "text": [
      "Fare & Survived:\n",
      "\tp-value 0.000\n",
      "\tDependent (reject H0)\n",
      "Age  has null values, impute null values before t-test\n"
     ]
    }
   ],
   "source": [
    "#One sample z-test:\n",
    "#ztest ,pval = stests.ztest(df['bp_before'], x2=None, value=156)\n",
    "\n",
    "#Two sampled z-test \n",
    "target_variable = 'Survived'\n",
    "numerical_variables = ['Fare', 'Age']\n",
    "for col in numerical_variables:\n",
    "    if df_train[col].isnull().sum() > 0:\n",
    "        print(col, \" has null values, impute null values before t-test\")\n",
    "    else:\n",
    "        ztest ,pval = stests.ztest(df_train[df_train[target_variable] == 1][col], x2=df_train[df_train[target_variable] == 0][col], value=0,alternative='two-sided')\n",
    "        print(col + \" & \" + target_variable + \":\")\n",
    "        print(\"\\tp-value\",\"{0:.3f}\".format(pval))\n",
    "        if pval <0.05:\n",
    "            print(\"\\tDependent (reject H0)\")\n",
    "        else:\n",
    "            print(\"\\tIndependent (accept H0)\")"
   ]
  },
  {
   "cell_type": "markdown",
   "metadata": {},
   "source": [
    "#### ANOVA (F-TEST) (when categorical variable has more than 2 classes)\n",
    "\n",
    "The t-test works well when dealing with two groups, but sometimes we want to compare more than two groups at the same time. For example, if we wanted to test whether voter age differs based on some categorical variable like race, we have to compare the means of each level or group the variable. We could carry out a separate t-test for each pair of groups, but when you conduct many tests you increase the chances of false positives. The analysis of variance or ANOVA is a statistical inference test that lets you compare multiple groups at the same time.\n",
    "\n",
    "F = Between group variability / Within group variability\n",
    "\n",
    "<img src=\"Anova-image.png\">\n",
    "One Way F-test(Anova) :- It tell whether two or more groups are similar or not based on their mean similarity and f-score. <br>\n",
    "\n",
    "Two Way F-test :- Two way F-test is extension of 1-way f-test, it is used when we have 2 independent variable and 2+ groups. 2-way F-test does not tell which variable is dominant. if we need to check individual significance then Post-hoc testing need to be performed."
   ]
  },
  {
   "cell_type": "code",
   "execution_count": null,
   "metadata": {},
   "outputs": [],
   "source": [
    "#One-way Anova test\n",
    "#Relationship between embarked and fare\n",
    "target_variable = 'Embarked'\n",
    "numerical_variables = ['Fare', 'Age']\n",
    "for col in numerical_variables:\n",
    "    if df_train[col].isnull().sum() > 0:\n",
    "        print(col, \" has null values, impute null values before t-test\")\n",
    "    else:\n",
    "        F, p = f_oneway(df_train[df_train[target_variable] == 'S'][col], df_train[df_train[target_variable] == 'C'][col], \n",
    "                              df_train[df_train[target_variable] == 'Q'][col])\n",
    "        print(col + \" & \" + target_variable + \":\")\n",
    "        print(\"\\tp-value\",\"{0:.3f}\".format(pval))\n",
    "        if pval <0.05:\n",
    "            print(\"\\tDependent (reject H0)\")\n",
    "        else:\n",
    "            print(\"\\tIndependent (accept H0)\")"
   ]
  }
 ],
 "metadata": {
  "kernelspec": {
   "display_name": "Python 3",
   "language": "python",
   "name": "python3"
  },
  "language_info": {
   "codemirror_mode": {
    "name": "ipython",
    "version": 3
   },
   "file_extension": ".py",
   "mimetype": "text/x-python",
   "name": "python",
   "nbconvert_exporter": "python",
   "pygments_lexer": "ipython3",
   "version": "3.7.4"
  }
 },
 "nbformat": 4,
 "nbformat_minor": 4
}
