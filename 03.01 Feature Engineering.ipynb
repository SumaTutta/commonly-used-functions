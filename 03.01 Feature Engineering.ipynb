{
 "cells": [
  {
   "cell_type": "markdown",
   "metadata": {},
   "source": [
    "#### Read Data"
   ]
  },
  {
   "cell_type": "code",
   "execution_count": null,
   "metadata": {},
   "outputs": [],
   "source": [
    "import numpy as np"
   ]
  },
  {
   "cell_type": "code",
   "execution_count": null,
   "metadata": {},
   "outputs": [],
   "source": [
    "# load data\n",
    "url = \"https://raw.githubusercontent.com/jbrownlee/Datasets/master/pima-indians-diabetes.data.csv\"\n",
    "names = ['preg', 'plas', 'pres', 'skin', 'test', 'mass', 'pedi', 'age', 'class']\n",
    "df = pandas.read_csv(url, names=names)\n",
    "df.to_csv(\"diabetes data\")"
   ]
  },
  {
   "cell_type": "markdown",
   "metadata": {},
   "source": [
    "### Feature Transformation"
   ]
  },
  {
   "cell_type": "markdown",
   "metadata": {},
   "source": [
    "##### Polynomial Based Data Transformation\n",
    "Generate a new feature matrix consisting of all polynomial combinations of the features with degree less than or equal to the specified degree. For example, if an input sample is two dimensional and of the form [a, b], the degree-2 polynomial features are [1, a, b, a^2, ab, b^2]."
   ]
  },
  {
   "cell_type": "code",
   "execution_count": null,
   "metadata": {},
   "outputs": [],
   "source": [
    "from sklearn.preprocessing import PolynomialFeatures\n",
    "from sklearn import datasets\n",
    "import pandas as pd\n",
    "\n",
    "poly_features = PolynomialFeatures(degree = 2)\n",
    "\n",
    "poly_data= poly_features.fit_transform(df[['plas', 'skin', 'test']])\n",
    "feature_names = ['x'.join(['{}^{}'.format(pair[0],pair[1]) for pair in tuple if pair[1]!=0]) for tuple in [zip(['plas', 'skin','test'],p) for p in poly_features.powers_]]\n",
    "df2 = pd.DataFrame(data = poly_data, columns = feature_names)"
   ]
  },
  {
   "cell_type": "code",
   "execution_count": null,
   "metadata": {},
   "outputs": [],
   "source": [
    "df2.head()"
   ]
  },
  {
   "cell_type": "markdown",
   "metadata": {},
   "source": [
    "##### Numeric Variable Transformations - Log, square root, square, cube, exponential\n",
    "##### Use transformations where applicable, since exp (example: e^2190), cube and squares can lead to large numbers and overflow issues"
   ]
  },
  {
   "cell_type": "code",
   "execution_count": null,
   "metadata": {},
   "outputs": [],
   "source": [
    "numeric_column_names = ['plas', 'pres', 'skin', 'test', 'mass', 'pedi', 'age']\n",
    "var = ''\n",
    "for col in numeric_column_names:\n",
    "    df[col + '_log1p'] = np.float32(np.log1p(df[col]))\n",
    "#    df[col + '_log'] = np.float32(df[col].apply(lambda x: np.log(x) if x!=0 else np.nan))\n",
    "    df[col + '_sqrt']= np.float32(np.sqrt(df[col]))\n",
    "    df[col + '_sq']= np.float32(np.square(df[col]))\n",
    "    df[col + '_cube']= np.float32(np.power(df[col],3))\n",
    "#    df[col + '_exp']= np.float32(np.exp(df[col]))"
   ]
  },
  {
   "cell_type": "markdown",
   "metadata": {},
   "source": [
    "### Feature Selection\n",
    "    - Filter Methods\n",
    "    - Wrapper Methods\n",
    "    - Embedded Methods"
   ]
  },
  {
   "cell_type": "markdown",
   "metadata": {},
   "source": [
    "##### Filter methods:\n",
    "    - Variance Selection Method\n",
    "    - Correlation coefficient\n",
    "    - Chi-square test    \n",
    "    - Information gain\n",
    "    - Fisher score\n",
    "\n",
    "Filter method uses the exact assessment criterion which includes information, distance, dependency, and consistency\n",
    "\n",
    "<img src=\"Correlation.png\">"
   ]
  },
  {
   "cell_type": "markdown",
   "metadata": {},
   "source": [
    "##### Variance Selection Method\n",
    "Using the variance selection method, the variance of each feature is first calculated, and then the feature whose variance is greater than the threshold is selected according to the threshold. The code for selecting features using the Variance Threshold class of the feature_selection library is as follows:"
   ]
  },
  {
   "cell_type": "code",
   "execution_count": null,
   "metadata": {},
   "outputs": [],
   "source": [
    "from sklearn.feature_selection import VarianceThreshold\n",
    "\n",
    "selector = VarianceThreshold(threshold=3)\n",
    "var_threshold = selector.fit_transform(df)\n",
    "df2 = pd.DataFrame(data = var_threshold, columns = df.columns[selector.get_support(indices=True)])"
   ]
  },
  {
   "cell_type": "markdown",
   "metadata": {},
   "source": [
    "##### Correlation Coefficient Method \n",
    "(Continuos to Continuos - Linear Regression, choose the features with highest coefficients) "
   ]
  },
  {
   "cell_type": "code",
   "execution_count": null,
   "metadata": {},
   "outputs": [],
   "source": [
    "from sklearn.feature_selection import SelectKBest\n",
    "from scipy.stats import pearsonr\n",
    "\n",
    "kbest_cc = SelectKBest(lambda X, Y: np.array(list(map(lambda x:pearsonr(x, Y), X.T)))[:,0], k=4)\n",
    "corr_coefs = kbest_cc.fit_transform(df.drop(['class'],axis = 1).values, df['class'].values)\n",
    "print(kbest_cc.scores_)\n",
    "df2 = pd.DataFrame(data = corr_coefs, columns = df.columns[kbest_cc.get_support(indices=True)])"
   ]
  },
  {
   "cell_type": "markdown",
   "metadata": {},
   "source": [
    "##### Univariate Selection - SelectKBest (Using ChiSq Test Scoring)"
   ]
  },
  {
   "cell_type": "markdown",
   "metadata": {},
   "source": [
    "Chi Sq test: To measure the correlation between categorical target variable (dependent) and categorical independent variables. Hence it is required that the input variables for Chi sq test are all non-negative features"
   ]
  },
  {
   "cell_type": "code",
   "execution_count": null,
   "metadata": {},
   "outputs": [],
   "source": [
    "df.head()"
   ]
  },
  {
   "cell_type": "code",
   "execution_count": null,
   "metadata": {},
   "outputs": [],
   "source": [
    "import pandas\n",
    "import numpy\n",
    "from sklearn.feature_selection import SelectKBest\n",
    "from sklearn.feature_selection import chi2"
   ]
  },
  {
   "cell_type": "code",
   "execution_count": null,
   "metadata": {},
   "outputs": [],
   "source": [
    "X_train = df.drop(['class'], axis = 1)\n",
    "y_train = df['class']\n",
    "\n",
    "categorical_fields = ['preg','skin', 'age']\n",
    "kbest_chi = SelectKBest(score_func=chi2, k=1)\n",
    "chi_fit = kbest_chi.fit_transform(X_train[categorical_fields], y_train)\n",
    "\n",
    "np.set_printoptions(precision=3)\n",
    "scores_df = pd.DataFrame(data = kbest_chi.scores_, columns = ['scores'], index = list(X_train[categorical_fields].columns))\n",
    "X_train2 = pd.DataFrame(data = chi_fit, columns = X_train[categorical_fields].columns[kbest_chi.get_support(indices=True)])"
   ]
  },
  {
   "cell_type": "markdown",
   "metadata": {},
   "source": [
    "##### SelectKBest (Using Mutual Information)\n",
    "mutual_info_classif: Mutual information for a discrete target <br>\n",
    "mutual_info_regression: Mutual information for a continuous target"
   ]
  },
  {
   "cell_type": "code",
   "execution_count": null,
   "metadata": {},
   "outputs": [],
   "source": [
    "from sklearn.feature_selection import SelectKBest, mutual_info_classif\n",
    "\n",
    "kbest_MI = SelectKBest(score_func = mutual_info_classif, k=4)\n",
    "MI_data = kbest_MI.fit_transform(df.drop(['class'],axis = 1).values, df['class'].values)\n",
    "scores_df = pd.DataFrame(data = kbest_MI.scores_, columns = ['scores'], index = list(df.drop(['class'], axis = 1).columns))\n",
    "df2 = pd.DataFrame(data = MI_data, columns = df.columns[kbest_MI.get_support(indices=True)])"
   ]
  },
  {
   "cell_type": "markdown",
   "metadata": {},
   "source": [
    "#### Wrapper Methods for Feature Selection\n",
    "###### - Recursive feature elimination\n",
    "###### - Sequential feature selection algorithms (available only in mlxtend library?)\n",
    "###### - Genetic algorithms"
   ]
  },
  {
   "cell_type": "markdown",
   "metadata": {},
   "source": [
    "##### Recursive Feature Elimination"
   ]
  },
  {
   "cell_type": "code",
   "execution_count": null,
   "metadata": {},
   "outputs": [],
   "source": [
    "from sklearn.feature_selection import RFE\n",
    "from sklearn import ensemble, svm, linear_model, model_selection\n",
    "import seaborn as sns\n",
    "import matplotlib.pyplot as plt"
   ]
  },
  {
   "cell_type": "code",
   "execution_count": null,
   "metadata": {},
   "outputs": [],
   "source": [
    "def plot_feature_importances(estimator, X, cutoff=40):\n",
    "    if isinstance(estimator, linear_model.Lasso) :\n",
    "        importances = estimator.coef_\n",
    "    else:\n",
    "        importances = estimator.feature_importances_\n",
    "    indices = np.argsort(importances)[::-1][:cutoff]\n",
    "    plt.figure()\n",
    "    g = sns.barplot(y=X.columns[indices][:cutoff],x = importances[indices][:cutoff] , orient='h')\n",
    "    g.set_xlabel(\"Relative importance\",fontsize=12)\n",
    "    g.set_ylabel(\"Features\",fontsize=12)\n",
    "    g.tick_params(labelsize=9)\n",
    "    g.set_title(\"Feature importances based on: \" + str(estimator).split('(')[0] + ' model' )"
   ]
  },
  {
   "cell_type": "code",
   "execution_count": null,
   "metadata": {},
   "outputs": [],
   "source": [
    "def grid_search_best_model(estimator, grid, X, y, cv=10, scoring='accuracy'):\n",
    "    grid_estimator = model_selection.GridSearchCV(estimator, grid, scoring=scoring, cv=cv)\n",
    "    grid_estimator.fit(X, y)\n",
    "    best_est = grid_estimator.best_estimator_\n",
    "    \n",
    "    print(\"Best parameters:\" + str(grid_estimator.best_params_) )\n",
    "    print(\"Validation score:\" + str(grid_estimator.best_score_) )\n",
    "    print(\"Train score:\" + str(grid_estimator.score(X, y)) )\n",
    "\n",
    "    return best_est"
   ]
  },
  {
   "cell_type": "markdown",
   "metadata": {},
   "source": [
    "##### Random Forest Wrapper - RFE"
   ]
  },
  {
   "cell_type": "code",
   "execution_count": null,
   "metadata": {},
   "outputs": [],
   "source": [
    "X_train = df.drop(['class'], axis = 1)\n",
    "y_train = df['class']\n",
    "rf_estimator = ensemble.RandomForestClassifier(n_estimators = 50)\n",
    "\n",
    "rf_grid  = {'max_depth':list(range(1,9)), 'n_estimators':list(range(1,300,100)) }\n",
    "rf_final_estimator = grid_search_best_model(rf_estimator, rf_grid, X_train, y_train)\n",
    "\n",
    "wrapper_selector = RFE(estimator = rf_estimator, n_features_to_select = 3, step = 1)\n",
    "X_train1 = wrapper_selector.fit_transform(X_train, y_train)\n",
    "print(wrapper_selector.support_)\n",
    "print(wrapper_selector.ranking_)\n",
    "plot_feature_importances(estimator = rf_final_estimator, X = X_train, cutoff = 40)"
   ]
  },
  {
   "cell_type": "markdown",
   "metadata": {},
   "source": [
    "##### Gradient Boost Wrapper - RFE"
   ]
  },
  {
   "cell_type": "code",
   "execution_count": null,
   "metadata": {},
   "outputs": [],
   "source": [
    "X_train = df.drop(['class'], axis = 1)\n",
    "y_train = df['class']\n",
    "gb_estimator = ensemble.GradientBoostingClassifier(n_estimators = 50)\n",
    "\n",
    "gb_grid  = {'max_depth':list(range(1,9)), 'n_estimators':list(range(1,300,100)) }\n",
    "gb_final_estimator = grid_search_best_model(gb_estimator, gb_grid, X_train, y_train)\n",
    "\n",
    "wrapper_selector = RFE(gb_final_estimator, n_features_to_select = 3, step = 1)\n",
    "X_train1 = wrapper_selector.fit_transform(X_train, y_train)\n",
    "print(wrapper_selector.support_)\n",
    "print(wrapper_selector.ranking_)\n",
    "plot_feature_importances(estimator = gb_final_estimator, X = X_train, cutoff = 40)"
   ]
  },
  {
   "cell_type": "markdown",
   "metadata": {},
   "source": [
    "##### SVM Wrapper - RFE"
   ]
  },
  {
   "cell_type": "code",
   "execution_count": null,
   "metadata": {},
   "outputs": [],
   "source": [
    "X_train = df.drop(['class'], axis = 1)\n",
    "y_train = df['class']\n",
    "svm_estimator = svm.LinearSVC(max_iter = 6000)\n",
    "wrapper_selector = RFE(svm_estimator, n_features_to_select = 2, step = 1)\n",
    "X_train1 = wrapper_selector.fit_transform(X_train, y_train)\n",
    "print(wrapper_selector.support_)\n",
    "print(wrapper_selector.ranking_)"
   ]
  },
  {
   "cell_type": "markdown",
   "metadata": {},
   "source": [
    "#### Embedded Methods\n",
    "- Random Forest \n",
    "- Gradient Boost\n",
    "- SVM\n",
    "- L1 (LASSO) regularization"
   ]
  },
  {
   "cell_type": "code",
   "execution_count": 584,
   "metadata": {},
   "outputs": [
    {
     "name": "stdout",
     "output_type": "stream",
     "text": [
      "Best parameters:{'max_depth': 7, 'n_estimators': 101}\n",
      "Validation score:0.7734375\n",
      "Train score:0.9192708333333334\n"
     ]
    },
    {
     "data": {
      "image/png": "[encoded data removed]",
      "text/plain": [
       "<Figure size 432x288 with 1 Axes>"
      ]
     },
     "metadata": {
      "needs_background": "light"
     },
     "output_type": "display_data"
    }
   ],
   "source": [
    "from sklearn.feature_selection import SelectFromModel\n",
    "from sklearn import ensemble\n",
    "\n",
    "rf_estimator = ensemble.RandomForestClassifier()\n",
    "rf_grid  = {'max_depth':list(range(1,9)), 'n_estimators':list(range(1,300,100)) }\n",
    "rf_final_estimator = grid_search_best_model(rf_estimator, rf_grid, X_train, y_train)\n",
    "embedded_selector = SelectFromModel(rf_final_estimator, prefit=True, threshold='mean')\n",
    "X_train1 = embedded_selector.transform(X_train)\n",
    "plot_feature_importances(rf_final_estimator, X_train)"
   ]
  },
  {
   "cell_type": "code",
   "execution_count": 585,
   "metadata": {},
   "outputs": [
    {
     "name": "stdout",
     "output_type": "stream",
     "text": [
      "Best parameters:{'learning_rate': 0.1, 'max_depth': 1, 'n_estimators': 150}\n",
      "Validation score:0.7747395833333334\n",
      "Train score:0.80078125\n"
     ]
    },
    {
     "data": {
      "image/png": "[encoded data removed]",
      "text/plain": [
       "<Figure size 432x288 with 1 Axes>"
      ]
     },
     "metadata": {
      "needs_background": "light"
     },
     "output_type": "display_data"
    }
   ],
   "source": [
    "gb_estimator = ensemble.GradientBoostingClassifier()\n",
    "gb_grid  = {'max_depth':[1,2,3], 'n_estimators':list(range(50,300, 100)), 'learning_rate':[0.001, 0.1, 1.0] }\n",
    "gb_final_estimator = grid_search_best_model(gb_estimator, gb_grid, X_train, y_train)\n",
    "embedded_selector = SelectFromModel(gb_final_estimator, prefit=True, threshold='mean')\n",
    "X_train1 = embedded_selector.transform(X_train)\n",
    "plot_feature_importances(gb_final_estimator, X_train)"
   ]
  },
  {
   "cell_type": "code",
   "execution_count": null,
   "metadata": {},
   "outputs": [],
   "source": [
    "svm_estimator = svm.LinearSVC()\n",
    "svm_grid = {'C':[0.01, 0.1, 1] }\n",
    "svm_final_estimator = grid_search_best_model(svm_estimator, svm_grid, X_train, y_train)\n",
    "embedded_selector = SelectFromModel(svm_final_estimator, prefit=True, threshold='mean')\n",
    "X_train1 = embedded_selector.transform(X_train)\n",
    "#LinearSVC' object has no attribute 'feature_importances_'"
   ]
  },
  {
   "cell_type": "code",
   "execution_count": null,
   "metadata": {},
   "outputs": [],
   "source": [
    "# L1 regularizer\n",
    "#X_train = df.drop(['class'], axis = 1)\n",
    "#y_train = df['class']\n",
    "\n",
    "#from sklearn.feature_selection import SelectFromModel\n",
    "#from sklearn.linear_model import LogisticRegression\n",
    "\n",
    "#GBDT as the feature selection of the base model\n",
    "#embedded_Logistic_L1_selector = SelectFromModel(LogisticRegression(penalty=\"l1\",C=0.1))\n",
    "#temp = embedded_Logistic_L1_selector.fit_transform(X_train, y_train)"
   ]
  },
  {
   "cell_type": "markdown",
   "metadata": {},
   "source": [
    "#### Dimensionality reduction\n",
    "When the feature selection is completed, the model can be directly trained, but the feature matrix is ​​too large, resulting in a large amount of computation and a long training time. Therefore, it is also necessary to reduce the dimension of the feature matrix. Common dimensionality reduction methods In addition to the L1 penalty-based model mentioned above, there are principal component analysis (PCA) and linear discriminant analysis (LDA). Linear discriminant analysis itself is also a classification model. PCA and LDA have many similarities, the essence of which is to map the original sample to the lower-dimensional sample space, but the mapping target of PCA and LDA is different: PCA is to make the mapped sample have the largest divergence. LDA is designed to give the mapped sample the best classification performance . So PCA is an unsupervised dimensionality reduction method, and LDA is a supervised dimensionality reduction method."
   ]
  },
  {
   "cell_type": "markdown",
   "metadata": {},
   "source": [
    "##### PCA"
   ]
  },
  {
   "cell_type": "code",
   "execution_count": null,
   "metadata": {},
   "outputs": [],
   "source": [
    "from sklearn.decomposition import PCA\n",
    "from sklearn import preprocessing\n",
    "\n",
    "#### NORMALIZE FEATURES BEFORE PUTTING THEM THROUGH PCA ####\n",
    "#### Refer 03 Preprocessing for scaling\n",
    "X_scaled = pd.DataFrame(preprocessing.scale(X_train),columns = X_train.columns)\n",
    "\n",
    "\n",
    "n_components = len(X_scaled.columns)\n",
    "pca = PCA(n_components=n_components)\n",
    "X_transformed = pca.fit_transform(X_scaled)\n",
    "pca_scoretable= pd.DataFrame(pca.components_,columns=X_scaled.columns,index = [\"P-\" + str(v) for v in range(1, n_components+1)])\n",
    "print(pca.explained_variance_ratio_)  # Should sum to 1\n",
    "print(pca.explained_variance_ratio_.cumsum())\n",
    "print(pca.singular_values_)\n",
    "pca_scoretable"
   ]
  },
  {
   "cell_type": "markdown",
   "metadata": {},
   "source": [
    "##### LDA\n",
    "LDA makes some simplifying assumptions about your data:\n",
    "\n",
    "- That your data is Gaussian, that each variable is is shaped like a bell curve when plotted.<br>\n",
    "- That each attribute has the same variance, that values of each variable vary around the mean by the same amount on average"
   ]
  },
  {
   "cell_type": "markdown",
   "metadata": {},
   "source": [
    "- Classification Problems. This might go without saying, but LDA is intended for classification problems where the output variable is categorical. LDA supports both binary and multi-class classification.\n",
    "- Gaussian Distribution. The standard implementation of the model assumes a Gaussian distribution of the input variables. Consider reviewing the univariate distributions of each attribute and using transforms to make them more Gaussian-looking (e.g. log and root for exponential distributions and Box-Cox for skewed distributions).\n",
    "- Remove Outliers. Consider removing outliers from your data. These can skew the basic statistics used to separate classes in LDA such the mean and the standard deviation.\n",
    "- Same Variance. LDA assumes that each input variable has the same variance. It is almost always a good idea to standardize your data before using LDA so that it has a mean of 0 and a standard deviation of 1."
   ]
  },
  {
   "cell_type": "code",
   "execution_count": null,
   "metadata": {},
   "outputs": [],
   "source": [
    "from sklearn.discriminant_analysis import LinearDiscriminantAnalysis\n",
    "from sklearn import preprocessing\n",
    "\n",
    "#There is an argument tha scaling makes no different, validate it with model performance\n",
    "scaler1 = preprocessing.StandardScaler()\n",
    "X_scaler = pd.DataFrame(scaler1.fit_transform(X_train), columns = X_train.columns)\n",
    "print(scaler1.scale_) #scale is sqrt of variance here\n",
    "print(scaler1.var_)\n",
    "\n",
    "\n",
    "# n_components : int, optional (default=None)\n",
    "# Number of components (<= min(n_classes - 1, n_features)) for dimensionality reduction. If None, will be set to min(n_classes - 1, n_features).\n",
    "clf = LinearDiscriminantAnalysis(n_components = 2)\n",
    "X_transformed = clf.fit(X_scaler, y_train)\n",
    "\n",
    "#X_scaler = pd.DataFrame(scaler1.fit_transform(iris.data))\n",
    "#X_transformed = clf.fit(X_scaler, iris.target)\n",
    "\n",
    "\n",
    "# explained_variance_ratio_ : array, shape (n_components,)\n",
    "# Percentage of variance explained by each of the selected components. \n",
    "# If n_components is not set then all components are stored and the sum of explained variances is equal to 1.0. Only available when eigen or svd solver is used.\n",
    "\n",
    "print(clf.explained_variance_ratio_)  # Should sum to 1,# elements = (number of classes - 1)\n",
    "print(clf.explained_variance_ratio_.cumsum())"
   ]
  },
  {
   "cell_type": "code",
   "execution_count": 590,
   "metadata": {},
   "outputs": [
    {
     "data": {
      "text/plain": [
       "array(['setosa', 'versicolor', 'virginica'], dtype='<U10')"
      ]
     },
     "execution_count": 590,
     "metadata": {},
     "output_type": "execute_result"
    }
   ],
   "source": [
    "iris.target_names"
   ]
  },
  {
   "cell_type": "code",
   "execution_count": null,
   "metadata": {},
   "outputs": [],
   "source": []
  }
 ],
 "metadata": {
  "kernelspec": {
   "display_name": "Python 3",
   "language": "python",
   "name": "python3"
  },
  "language_info": {
   "codemirror_mode": {
    "name": "ipython",
    "version": 3
   },
   "file_extension": ".py",
   "mimetype": "text/x-python",
   "name": "python",
   "nbconvert_exporter": "python",
   "pygments_lexer": "ipython3",
   "version": "3.7.4"
  }
 },
 "nbformat": 4,
 "nbformat_minor": 4
}
