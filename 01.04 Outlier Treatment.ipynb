{
 "cells": [
  {
   "cell_type": "markdown",
   "metadata": {},
   "source": [
    "#### Outlier Detection"
   ]
  },
  {
   "cell_type": "code",
   "execution_count": 32,
   "metadata": {},
   "outputs": [],
   "source": [
    "import os\n",
    "import pandas as pd\n",
    "import missingno as msno\n",
    "import seaborn as sns\n",
    "import matplotlib.pyplot as plt\n",
    "import numpy as np\n",
    "from scipy.stats import iqr\n",
    "\n",
    "from IPython.display import display, HTML\n",
    "#display(HTML(df_perf.to_html()))\n",
    "%matplotlib inline\n",
    "\n",
    "os.chdir('/Users/suma/Documents/01 Data Science/Titanic Problem/')"
   ]
  },
  {
   "cell_type": "code",
   "execution_count": 3,
   "metadata": {},
   "outputs": [],
   "source": [
    "df_train = pd.read_csv('titanic_train.csv')\n",
    "df_test = pd.read_csv('titanic_test.csv')"
   ]
  },
  {
   "cell_type": "code",
   "execution_count": 5,
   "metadata": {},
   "outputs": [],
   "source": [
    "frames = [df_train, df_test]\n",
    "df = pd.concat(frames, axis = 0, sort = False)"
   ]
  },
  {
   "cell_type": "markdown",
   "metadata": {},
   "source": [
    "#### Outliers\n",
    "- Any value, which is beyond the range of -1.5 x IQR to 1.5 x IQR <br>\n",
    "- Use capping methods. Any value which out of range of 5th and 95th percentile can be considered as outlier <br>\n",
    "- Data points, three or more standard deviation away from mean are considered outlier <br>\n",
    "- Outlier detection is merely a special case of the examination of data for influential data points  and it also depends on the business understanding <br>\n",
    "- Bivariate and multivariate outliers are typically measured using either an index of influence or leverage, or distance. Popular indices such as Mahalanobis’ distance and Cook’s D are frequently used to detect outliers. <br>\n",
    "\n",
    "<img src='Outlier-image.png'>"
   ]
  },
  {
   "cell_type": "markdown",
   "metadata": {},
   "source": [
    "##### Statistics for Outlier Detection"
   ]
  },
  {
   "cell_type": "code",
   "execution_count": 36,
   "metadata": {},
   "outputs": [
    {
     "name": "stdout",
     "output_type": "stream",
     "text": [
      "Age :\n",
      "\tmean: 29.881137667304014\n",
      "\tmedian: 28.0\n",
      "\tmode: 0    24.0\n",
      "dtype: float64\n",
      "\tstddev: 14.413493211271334\n",
      "\t IQR: 18.0\n",
      "\t -1.5IQR - 1.5IQR: -27.0  -  27.0\n",
      "\t 95th percentile: 57.0\n",
      "Fare :\n",
      "\tmean: 33.2954792813456\n",
      "\tmedian: 14.4542\n",
      "\tmode: 0    8.05\n",
      "dtype: float64\n",
      "\tstddev: 51.75866823917414\n",
      "\t IQR: 23.38\n",
      "\t -1.5IQR - 1.5IQR: -35.07  -  35.07\n",
      "\t 95th percentile: 133.65\n"
     ]
    }
   ],
   "source": [
    "numeric_variables = ['Age', 'Fare']\n",
    "\n",
    "for col in numeric_variables:\n",
    "    mask = df[col].notnull()\n",
    "    print(col, \":\")\n",
    "    print(\"\\tmean:\", df[col].mean())\n",
    "    print(\"\\tmedian:\", df[col].median())\n",
    "    print(\"\\tmode:\", df[col].mode())    \n",
    "    print(\"\\tstddev:\", df[col].std())\n",
    "    IQR = round(iqr(df[mask][col], rng=(25,75), interpolation='midpoint'),2)\n",
    "    print(\"\\t IQR:\", IQR)\n",
    "    print(\"\\t -1.5IQR - 1.5IQR:\",-1.5*IQR, ' - ', 1.5*IQR)"
   ]
  },
  {
   "cell_type": "code",
   "execution_count": 38,
   "metadata": {},
   "outputs": [
    {
     "data": {
      "image/png": "[encoded data removed]",
      "text/plain": [
       "<Figure size 720x576 with 4 Axes>"
      ]
     },
     "metadata": {
      "needs_background": "light"
     },
     "output_type": "display_data"
    }
   ],
   "source": [
    "plt.figure(figsize = (10,8))\n",
    "plt.subplot(2,2,1)\n",
    "plt.ylim(0,200)\n",
    "sns.boxplot(y=\"Fare\", data=df);\n",
    "plt.subplot(2,2,2)\n",
    "plt.ylim(0,200)\n",
    "sns.boxplot(y=\"Age\", data=df);\n",
    "plt.subplot(2,2,3)\n",
    "plt.ylim(0,200)\n",
    "sns.boxplot(x= 'Survived', y=\"Fare\", data=df);\n",
    "plt.subplot(2,2,4)\n",
    "plt.ylim(0,200)\n",
    "sns.boxplot(x= 'Survived', y=\"Age\", data=df);"
   ]
  },
  {
   "cell_type": "markdown",
   "metadata": {},
   "source": [
    "#### Artificial outliers like data errors should be imputed by mean"
   ]
  },
  {
   "cell_type": "code",
   "execution_count": 74,
   "metadata": {},
   "outputs": [],
   "source": [
    "#### Imputing outliers (values outside 1.5IQR by their mean)\n",
    "outlier_columns = ['Fare', 'Age']\n",
    "for col in outlier_columns:\n",
    "    mask1 = df[col].notnull()\n",
    "    IQR = round(iqr(df[mask][col], rng=(25,75)),2)\n",
    "    mask2 = np.logical_or(df[col] > 1.5*IQR, df[col] < -1.5* IQR)\n",
    "    df.loc[mask2, col] = df[col].mean()"
   ]
  },
  {
   "cell_type": "markdown",
   "metadata": {},
   "source": [
    "#### Multivariate outlier identification using mahalanobis distance measure\n",
    "\n",
    "Euclidean Metric fails to find the correct distance because it tries to get ordinary straight-line distance. So if we have multi-dimension space of variables, two points may look to have same distance from the Mean but in reality one of them is far away from the data cloud (i.e. it's extreme value).\n",
    "\n",
    "<img src = \"Mahala-image1.png\">\n",
    "The solution is Mahalanobis Distance which makes something similar to the feature scaling via taking the Eigenvectors of the variables instead of the original axis.\n",
    "\n",
    "It applies the following formula:<br>\n",
    "<img src = \"Mahala-image2.png\">\n",
    "\n",
    "xbar is the observation to find its distance <br>\n",
    "mu is the mean of the observations <br>\n",
    "S is the Covariance Matrix <br>\n",
    "\n",
    "Things to note:<br>\n",
    "- Practically speaking, if you have a lot of features and lesser examples (i.e inputs), Mahalanobis algorithm tends to give misleading results (you can try it yourself), so the more features you have, the more examples you should provide. <br>\n",
    "- The covariance matrix must be Symmetric and Positive Definite to make the algorithm works, so you should check before proceeding!"
   ]
  },
  {
   "cell_type": "code",
   "execution_count": null,
   "metadata": {},
   "outputs": [],
   "source": [
    "def create_data(examples=50, features=5, upper_bound=10, outliers_fraction=0.1, extreme=False):\n",
    "    '''\n",
    "    This method for testing (i.e. to generate a 2D array of data)\n",
    "    '''\n",
    "    data = []\n",
    "    magnitude = 4 if extreme else 3\n",
    "    for i in range(examples):\n",
    "        if (examples - i) <= round((float(examples) * outliers_fraction)):\n",
    "            data.append(np.random.poisson(upper_bound ** magnitude, features).tolist())\n",
    "        else:\n",
    "            data.append(np.random.poisson(upper_bound, features).tolist())\n",
    "    return np.array(data)"
   ]
  },
  {
   "cell_type": "code",
   "execution_count": null,
   "metadata": {},
   "outputs": [],
   "source": [
    "def is_pos_def(A):\n",
    "    if np.allclose(A, A.T):\n",
    "        try:\n",
    "            np.linalg.cholesky(A)\n",
    "            return True\n",
    "        except np.linalg.LinAlgError:\n",
    "            return False\n",
    "    else:\n",
    "        return False"
   ]
  },
  {
   "cell_type": "code",
   "execution_count": null,
   "metadata": {},
   "outputs": [],
   "source": [
    "def MahalanobisDist(data, verbose=False):\n",
    "    covariance_matrix = np.cov(data, rowvar=False)\n",
    "    if is_pos_def(covariance_matrix):\n",
    "        inv_covariance_matrix = np.linalg.inv(covariance_matrix)\n",
    "        if is_pos_def(inv_covariance_matrix):\n",
    "            vars_mean = []\n",
    "            for i in range(data.shape[0]):\n",
    "                vars_mean.append(list(data.mean(axis=0)))\n",
    "            diff = data - vars_mean\n",
    "            md = []\n",
    "            for i in range(len(diff)):\n",
    "                md.append(np.sqrt(diff[i].dot(inv_covariance_matrix).dot(diff[i])))\n",
    "\n",
    "            if verbose:\n",
    "                print(\"Covariance Matrix:\\n {}\\n\".format(covariance_matrix))\n",
    "                print(\"Inverse of Covariance Matrix:\\n {}\\n\".format(inv_covariance_matrix))\n",
    "                print(\"Variables Mean Vector:\\n {}\\n\".format(vars_mean))\n",
    "                print(\"Variables - Variables Mean Vector:\\n {}\\n\".format(diff))\n",
    "                print(\"Mahalanobis Distance:\\n {}\\n\".format(md))\n",
    "            return md\n",
    "        else:\n",
    "            print(\"Error: Inverse of Covariance Matrix is not positive definite!\")\n",
    "    else:\n",
    "        print(\"Error: Covariance Matrix is not positive definite!\")"
   ]
  },
  {
   "cell_type": "code",
   "execution_count": null,
   "metadata": {},
   "outputs": [],
   "source": [
    "def MD_detectOutliers(data, extreme=False, verbose=False):\n",
    "    MD = MahalanobisDist(data, verbose)\n",
    "    #one popular way to specify the threshold\n",
    "    #m = np.mean(MD)\n",
    "    #t = 3. * m if extreme else 2. * m\n",
    "    #outliers = []\n",
    "    #for i in range(len(MD)):\n",
    "    #    if MD[i] > t:\n",
    "    #        outliers.append(i)  # index of the outlier\n",
    "    #return np.array(outliers)\n",
    "\n",
    "    # or according to the 68–95–99.7 rule\n",
    "    std = np.std(MD)\n",
    "    k = 3. * std if extreme else 2. * std\n",
    "    m = np.mean(MD)\n",
    "    up_t = m + k\n",
    "    low_t = m - k\n",
    "    outliers = []\n",
    "    for i in range(len(MD)):\n",
    "        if (MD[i] >= up_t) or (MD[i] <= low_t):\n",
    "        outliers.append(i)  # index of the outlier\n",
    "    return np.array(outliers)"
   ]
  },
  {
   "cell_type": "markdown",
   "metadata": {},
   "source": [
    "#### Decision Tree to bin Fare/Age column inorder to handle outliers"
   ]
  },
  {
   "cell_type": "code",
   "execution_count": null,
   "metadata": {},
   "outputs": [],
   "source": []
  },
  {
   "cell_type": "markdown",
   "metadata": {},
   "source": [
    "#### Outlier Detection using PyOD Library"
   ]
  },
  {
   "cell_type": "code",
   "execution_count": 81,
   "metadata": {},
   "outputs": [],
   "source": [
    "import numpy as np\n",
    "from scipy import stats\n",
    "import matplotlib.pyplot as plt\n",
    "%matplotlib inline\n",
    "import matplotlib.font_manager\n",
    "from pyod.models.abod import ABOD\n",
    "from pyod.models.knn import KNN\n",
    "from pyod.utils.data import generate_data, get_outliers_inliers"
   ]
  },
  {
   "cell_type": "code",
   "execution_count": 89,
   "metadata": {},
   "outputs": [
    {
     "data": {
      "text/plain": [
       "Text(0, 0.5, 'F2')"
      ]
     },
     "execution_count": 89,
     "metadata": {},
     "output_type": "execute_result"
    },
    {
     "data": {
      "image/png": "[encoded data removed]",
      "text/plain": [
       "<Figure size 432x288 with 1 Axes>"
      ]
     },
     "metadata": {
      "needs_background": "light"
     },
     "output_type": "display_data"
    }
   ],
   "source": [
    "# by default the outlier fraction is 0.1 in generate data function ; outlier_fraction = 0.1\n",
    "\n",
    "#generate random data with two features\n",
    "X_train, Y_train = generate_data(n_train=200,train_only=True, n_features=2)\n",
    "\n",
    "# store outliers and inliers in different numpy arrays\n",
    "x_outliers, x_inliers = get_outliers_inliers(X_train,Y_train)\n",
    "\n",
    "n_inliers = len(x_inliers)\n",
    "n_outliers = len(x_outliers)\n",
    "\n",
    "#separate the two features and use it to plot the data \n",
    "F1 = X_train[:,[0]].reshape(-1,1)\n",
    "F2 = X_train[:,[1]].reshape(-1,1)\n",
    "\n",
    "# create a meshgrid \n",
    "xx , yy = np.meshgrid(np.linspace(-10, 10, 200), np.linspace(-10, 10, 200))\n",
    "\n",
    "# scatter plot \n",
    "plt.scatter(F1,F2)\n",
    "plt.xlabel('F1')\n",
    "plt.ylabel('F2') "
   ]
  },
  {
   "cell_type": "code",
   "execution_count": 79,
   "metadata": {},
   "outputs": [
    {
     "name": "stdout",
     "output_type": "stream",
     "text": [
      "Object `pyod.utils.data.generate_data` not found.\n"
     ]
    }
   ],
   "source": [
    "pyod.utils.data.generate_data?"
   ]
  },
  {
   "cell_type": "code",
   "execution_count": 90,
   "metadata": {},
   "outputs": [
    {
     "data": {
      "text/plain": [
       "180"
      ]
     },
     "execution_count": 90,
     "metadata": {},
     "output_type": "execute_result"
    }
   ],
   "source": [
    "n_inliers"
   ]
  },
  {
   "cell_type": "code",
   "execution_count": 92,
   "metadata": {},
   "outputs": [
    {
     "data": {
      "text/plain": [
       "range(0, 1309)"
      ]
     },
     "execution_count": 92,
     "metadata": {},
     "output_type": "execute_result"
    }
   ],
   "source": [
    "range(df.shape[0])"
   ]
  },
  {
   "cell_type": "code",
   "execution_count": null,
   "metadata": {},
   "outputs": [],
   "source": []
  }
 ],
 "metadata": {
  "kernelspec": {
   "display_name": "Python 3",
   "language": "python",
   "name": "python3"
  },
  "language_info": {
   "codemirror_mode": {
    "name": "ipython",
    "version": 3
   },
   "file_extension": ".py",
   "mimetype": "text/x-python",
   "name": "python",
   "nbconvert_exporter": "python",
   "pygments_lexer": "ipython3",
   "version": "3.7.1"
  }
 },
 "nbformat": 4,
 "nbformat_minor": 2
}
